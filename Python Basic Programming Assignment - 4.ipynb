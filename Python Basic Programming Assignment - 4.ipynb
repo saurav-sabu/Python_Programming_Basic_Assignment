{
 "cells": [
  {
   "cell_type": "markdown",
   "metadata": {},
   "source": [
    "## Python Programming Basic Assignment"
   ]
  },
  {
   "cell_type": "markdown",
   "metadata": {},
   "source": [
    "1.\tWrite a Python Program to Find the Factorial of a Number?"
   ]
  },
  {
   "cell_type": "code",
   "execution_count": 21,
   "metadata": {},
   "outputs": [
    {
     "name": "stdout",
     "output_type": "stream",
     "text": [
      "Enter the number to find factorial:3\n",
      "Factorial of 3 is 6\n"
     ]
    }
   ],
   "source": [
    "fact = 1\n",
    "num = int(input(\"Enter the number to find factorial:\"))\n",
    "for i in range(1,num+1):\n",
    "    fact = fact *i\n",
    "\n",
    "if num == 0:\n",
    "    print(f\"Factorial of {num} is {1}\")\n",
    "else:\n",
    "    print(f\"Factorial of {num} is {fact}\")"
   ]
  },
  {
   "cell_type": "markdown",
   "metadata": {},
   "source": [
    "2.\tWrite a Python Program to Display the multiplication Table?"
   ]
  },
  {
   "cell_type": "code",
   "execution_count": 25,
   "metadata": {},
   "outputs": [
    {
     "name": "stdout",
     "output_type": "stream",
     "text": [
      "Enter the number to find multiplication table:5\n",
      "5 x 1 = 5\n",
      "5 x 2 = 10\n",
      "5 x 3 = 15\n",
      "5 x 4 = 20\n",
      "5 x 5 = 25\n",
      "5 x 6 = 30\n",
      "5 x 7 = 35\n",
      "5 x 8 = 40\n",
      "5 x 9 = 45\n",
      "5 x 10 = 50\n"
     ]
    }
   ],
   "source": [
    "num = int(input(\"Enter the number to find multiplication table:\"))\n",
    "for i in range(1,11):\n",
    "    print(f\"{num} x {i} = {num*i}\")"
   ]
  },
  {
   "cell_type": "markdown",
   "metadata": {},
   "source": [
    "3.\tWrite a Python Program to Print the Fibonacci sequence?"
   ]
  },
  {
   "cell_type": "code",
   "execution_count": 30,
   "metadata": {},
   "outputs": [
    {
     "name": "stdout",
     "output_type": "stream",
     "text": [
      "Enter the number:5\n",
      "0 1 1 2 3 "
     ]
    }
   ],
   "source": [
    "num = int(input(\"Enter the number:\"))\n",
    "a,b=0,1\n",
    "if num == 1:\n",
    "    print(a)\n",
    "else:\n",
    "    print(a,b,end=\" \")\n",
    "    for i in range(2,num):\n",
    "        c = a+b\n",
    "        a = b\n",
    "        b = c\n",
    "        print(c,end=\" \")\n",
    "    \n",
    "    "
   ]
  },
  {
   "cell_type": "markdown",
   "metadata": {},
   "source": [
    "4.\tWrite a Python Program to Check Armstrong Number?"
   ]
  },
  {
   "cell_type": "code",
   "execution_count": 49,
   "metadata": {},
   "outputs": [
    {
     "name": "stdout",
     "output_type": "stream",
     "text": [
      "Enter the number:153\n",
      "153 is armstrong number\n"
     ]
    }
   ],
   "source": [
    "num = int(input(\"Enter the number:\"))\n",
    "temp = num\n",
    "d = 0\n",
    "while(num!=0):\n",
    "    s = num%10\n",
    "    d = s*s*s + d\n",
    "    num = num//10\n",
    "\n",
    "if temp == d:\n",
    "    print(f\"{temp} is armstrong number\")\n",
    "else:\n",
    "    print(f\"{temp} is not armstrong number\")"
   ]
  },
  {
   "cell_type": "markdown",
   "metadata": {},
   "source": [
    "5.\tWrite a Python Program to Find Armstrong Number in an Interval?"
   ]
  },
  {
   "cell_type": "code",
   "execution_count": 10,
   "metadata": {},
   "outputs": [
    {
     "name": "stdout",
     "output_type": "stream",
     "text": [
      "Enter lower limit of the range:1\n",
      "Enter upper limit of the range:1000\n",
      "1 is armstrong number\n",
      "153 is armstrong number\n",
      "370 is armstrong number\n",
      "371 is armstrong number\n",
      "407 is armstrong number\n"
     ]
    }
   ],
   "source": [
    "lower = int(input(\"Enter lower limit of the range:\"))\n",
    "upper = int(input(\"Enter upper limit of the range:\"))\n",
    "d = 0\n",
    "for i in range(lower,upper+1):\n",
    "    temp = i\n",
    "    d = 0\n",
    "    while(i!=0):\n",
    "        s = i%10\n",
    "        d = s*s*s + d\n",
    "        i = i//10\n",
    "    if temp == d:\n",
    "        print(f\"{temp} is armstrong number\")"
   ]
  },
  {
   "cell_type": "markdown",
   "metadata": {},
   "source": [
    "6.\tWrite a Python Program to Find the Sum of Natural Numbers?"
   ]
  },
  {
   "cell_type": "code",
   "execution_count": 8,
   "metadata": {},
   "outputs": [
    {
     "name": "stdout",
     "output_type": "stream",
     "text": [
      "Enter the number:10\n",
      "55\n"
     ]
    }
   ],
   "source": [
    "n = int(input(\"Enter the number:\"))\n",
    "sum = 0\n",
    "for i in range(1,n+1):\n",
    "    sum = sum + i\n",
    "    \n",
    "print(sum)"
   ]
  },
  {
   "cell_type": "code",
   "execution_count": null,
   "metadata": {},
   "outputs": [],
   "source": []
  }
 ],
 "metadata": {
  "kernelspec": {
   "display_name": "Python 3",
   "language": "python",
   "name": "python3"
  },
  "language_info": {
   "codemirror_mode": {
    "name": "ipython",
    "version": 3
   },
   "file_extension": ".py",
   "mimetype": "text/x-python",
   "name": "python",
   "nbconvert_exporter": "python",
   "pygments_lexer": "ipython3",
   "version": "3.8.5"
  }
 },
 "nbformat": 4,
 "nbformat_minor": 4
}
