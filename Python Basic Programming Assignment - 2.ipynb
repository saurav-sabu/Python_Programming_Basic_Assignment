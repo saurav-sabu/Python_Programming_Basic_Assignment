{
 "cells": [
  {
   "cell_type": "markdown",
   "metadata": {},
   "source": [
    "## Python Programming Basic Assignment "
   ]
  },
  {
   "cell_type": "markdown",
   "metadata": {},
   "source": [
    "1.\tWrite a Python program to convert kilometers to miles?"
   ]
  },
  {
   "cell_type": "code",
   "execution_count": 5,
   "metadata": {},
   "outputs": [
    {
     "name": "stdout",
     "output_type": "stream",
     "text": [
      "Enter distance in kilometers which need to be converted to miles: 1\n",
      "Distance in miles =  0.621371192237334\n"
     ]
    }
   ],
   "source": [
    "distance_km = float(input(\"Enter distance in kilometers which need to be converted to miles: \"))\n",
    "distance_mile = distance_km / 1.609344\n",
    "print(\"Distance in miles = \",distance_mile)"
   ]
  },
  {
   "cell_type": "markdown",
   "metadata": {},
   "source": [
    "2.\tWrite a Python program to convert Celsius to Fahrenheit?"
   ]
  },
  {
   "cell_type": "code",
   "execution_count": 8,
   "metadata": {},
   "outputs": [
    {
     "name": "stdout",
     "output_type": "stream",
     "text": [
      "Enter the temperature in celsius:1\n",
      "Temperature in Fahrenhiet = 33.8\n"
     ]
    }
   ],
   "source": [
    "celsius_temp = int(input(\"Enter the temperature in celsius:\"))\n",
    "fahrenhiet_temp = (celsius_temp * 1.8) + 32\n",
    "print(\"Temperature in Fahrenhiet =\",fahrenhiet_temp)"
   ]
  },
  {
   "cell_type": "markdown",
   "metadata": {},
   "source": [
    "3.\tWrite a Python program to display calendar?"
   ]
  },
  {
   "cell_type": "code",
   "execution_count": 11,
   "metadata": {},
   "outputs": [],
   "source": [
    "import calendar as cal"
   ]
  },
  {
   "cell_type": "code",
   "execution_count": 13,
   "metadata": {},
   "outputs": [
    {
     "name": "stdout",
     "output_type": "stream",
     "text": [
      "    January 2021\n",
      "Mo Tu We Th Fr Sa Su\n",
      "             1  2  3\n",
      " 4  5  6  7  8  9 10\n",
      "11 12 13 14 15 16 17\n",
      "18 19 20 21 22 23 24\n",
      "25 26 27 28 29 30 31\n",
      "\n"
     ]
    }
   ],
   "source": [
    "print(cal.month(2021,1))"
   ]
  },
  {
   "cell_type": "markdown",
   "metadata": {},
   "source": [
    "4.\tWrite a Python program to solve quadratic equation?"
   ]
  },
  {
   "cell_type": "code",
   "execution_count": 14,
   "metadata": {},
   "outputs": [],
   "source": [
    "import math"
   ]
  },
  {
   "cell_type": "code",
   "execution_count": 19,
   "metadata": {},
   "outputs": [
    {
     "name": "stdout",
     "output_type": "stream",
     "text": [
      "Enter the value of a:1\n",
      "Enter the value of b:-3\n",
      "Enter the value of c:-10\n",
      "It has two real solutions\n",
      "5.0\n",
      "-2.0\n"
     ]
    }
   ],
   "source": [
    "# ax2 + bx + c = 0\n",
    "\n",
    "a = int(input(\"Enter the value of a:\"))\n",
    "b = int(input(\"Enter the value of b:\"))\n",
    "c = int(input(\"Enter the value of c:\"))\n",
    "\n",
    "D = b**2 - 4*a*c\n",
    "\n",
    "if D > 0:\n",
    "    value1 = (-b + math.sqrt(D))/(2*a)\n",
    "    value2 = (-b - math.sqrt(D))/(2*a)\n",
    "    print(\"It has two real solutions\")\n",
    "    print(value1)\n",
    "    print(value2)\n",
    "elif D == 0:\n",
    "    value3 = (-b + math.sqrt(D))/(2*a)\n",
    "    print(\"It has one distinct solutions\")\n",
    "    print(value3)\n",
    "else:\n",
    "    print(\"We get complex Solution\")"
   ]
  },
  {
   "cell_type": "markdown",
   "metadata": {},
   "source": [
    "5.\tWrite a Python program to swap two variables without temp variable?"
   ]
  },
  {
   "cell_type": "code",
   "execution_count": 20,
   "metadata": {},
   "outputs": [
    {
     "name": "stdout",
     "output_type": "stream",
     "text": [
      "Enter the value of a: 10\n",
      "Enter the value of b: 20\n",
      "Value of a =  20\n",
      "Value of b =  10\n"
     ]
    }
   ],
   "source": [
    "a = int(input(\"Enter the value of a: \"))\n",
    "b = int(input(\"Enter the value of b: \"))\n",
    "a,b = b,a\n",
    "print(\"Value of a = \",a)\n",
    "print(\"Value of b = \",b)"
   ]
  },
  {
   "cell_type": "code",
   "execution_count": null,
   "metadata": {},
   "outputs": [],
   "source": []
  }
 ],
 "metadata": {
  "kernelspec": {
   "display_name": "Python 3",
   "language": "python",
   "name": "python3"
  },
  "language_info": {
   "codemirror_mode": {
    "name": "ipython",
    "version": 3
   },
   "file_extension": ".py",
   "mimetype": "text/x-python",
   "name": "python",
   "nbconvert_exporter": "python",
   "pygments_lexer": "ipython3",
   "version": "3.8.5"
  }
 },
 "nbformat": 4,
 "nbformat_minor": 4
}
