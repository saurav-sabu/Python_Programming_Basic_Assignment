{
 "cells": [
  {
   "cell_type": "markdown",
   "metadata": {},
   "source": [
    "## Python Programming Basic Assignment"
   ]
  },
  {
   "cell_type": "markdown",
   "metadata": {},
   "source": [
    "1.\tWrite a Python Program to Find LCM?"
   ]
  },
  {
   "cell_type": "code",
   "execution_count": 5,
   "metadata": {},
   "outputs": [
    {
     "name": "stdout",
     "output_type": "stream",
     "text": [
      "Enter first number:30\n",
      "Enter second number:45\n",
      "LCM is 90\n"
     ]
    }
   ],
   "source": [
    "n1 = int(input(\"Enter first number:\"))\n",
    "n2 = int(input(\"Enter second number:\"))\n",
    "if n1>n2:\n",
    "    higher = n1\n",
    "else:\n",
    "    higher = n2\n",
    "value = higher\n",
    "while True:\n",
    "    if higher%n1 == 0 and higher%n2 ==0:\n",
    "        print(f\"LCM is {higher}\")\n",
    "        break\n",
    "    else:\n",
    "        higher = higher + value\n",
    "    "
   ]
  },
  {
   "cell_type": "markdown",
   "metadata": {},
   "source": [
    "2.\tWrite a Python Program to Find HCF?"
   ]
  },
  {
   "cell_type": "code",
   "execution_count": 1,
   "metadata": {},
   "outputs": [
    {
     "name": "stdout",
     "output_type": "stream",
     "text": [
      "4\n"
     ]
    }
   ],
   "source": [
    "import math\n",
    "\n",
    "print(math.gcd(4,8))"
   ]
  },
  {
   "cell_type": "markdown",
   "metadata": {},
   "source": [
    "3.\tWrite a Python Program to Convert Decimal to Binary, Octal and Hexadecimal?"
   ]
  },
  {
   "cell_type": "code",
   "execution_count": 8,
   "metadata": {},
   "outputs": [
    {
     "name": "stdout",
     "output_type": "stream",
     "text": [
      "Enter number:10\n",
      "To convert from decimal to Binary\n",
      "Binary = 0b1010\n",
      "To convert from decimal to Octal\n",
      "Octal = 0o12\n",
      "To convert from decimal to Hexadecimal\n",
      "Hexadecimal = 0xa\n"
     ]
    }
   ],
   "source": [
    "decimal = int(input(\"Enter number:\"))\n",
    "print(\"To convert from decimal to Binary\")\n",
    "print(\"Binary =\",bin(decimal))\n",
    "print(\"To convert from decimal to Octal\")\n",
    "print(\"Octal =\",oct(decimal))\n",
    "print(\"To convert from decimal to Hexadecimal\")\n",
    "print(\"Hexadecimal =\",hex(decimal))"
   ]
  },
  {
   "cell_type": "markdown",
   "metadata": {},
   "source": [
    "4.\tWrite a Python Program To Find ASCII value of a character?"
   ]
  },
  {
   "cell_type": "code",
   "execution_count": 10,
   "metadata": {},
   "outputs": [
    {
     "name": "stdout",
     "output_type": "stream",
     "text": [
      "Enter the character:A\n",
      "ASCII value of the character =  65\n"
     ]
    }
   ],
   "source": [
    "character = input(\"Enter the character:\")\n",
    "print(\"ASCII value of the character = \",ord(character))"
   ]
  },
  {
   "cell_type": "markdown",
   "metadata": {},
   "source": [
    "5.\tWrite a Python Program to Make a Simple Calculator with 4 basic mathematical operations?"
   ]
  },
  {
   "cell_type": "code",
   "execution_count": 16,
   "metadata": {},
   "outputs": [
    {
     "name": "stdout",
     "output_type": "stream",
     "text": [
      "Enter first number:20\n",
      "Enter second number:10\n",
      "Enter choice which operation to perform\n",
      "1. Addition\n",
      "2. Subtraction\n",
      "3. Multiplication\n",
      "4. Division\n",
      "Enter choice:4\n",
      "2.0\n"
     ]
    }
   ],
   "source": [
    "a = int(input(\"Enter first number:\"))\n",
    "b = int(input(\"Enter second number:\"))\n",
    "print(\"Enter choice which operation to perform\")\n",
    "print(\"1. Addition\")\n",
    "print(\"2. Subtraction\")\n",
    "print(\"3. Multiplication\")\n",
    "print(\"4. Division\")\n",
    "choice = int(input(\"Enter choice:\"))\n",
    "if choice == 1:\n",
    "    print(a+b)\n",
    "elif choice == 2:\n",
    "    print(a-b)\n",
    "elif choice == 3:\n",
    "    print(a*b)\n",
    "elif choice == 4:\n",
    "    print(a/b)\n",
    "else:\n",
    "    print(\"Wrong Choice\")"
   ]
  }
 ],
 "metadata": {
  "kernelspec": {
   "display_name": "Python 3",
   "language": "python",
   "name": "python3"
  },
  "language_info": {
   "codemirror_mode": {
    "name": "ipython",
    "version": 3
   },
   "file_extension": ".py",
   "mimetype": "text/x-python",
   "name": "python",
   "nbconvert_exporter": "python",
   "pygments_lexer": "ipython3",
   "version": "3.8.5"
  }
 },
 "nbformat": 4,
 "nbformat_minor": 4
}
